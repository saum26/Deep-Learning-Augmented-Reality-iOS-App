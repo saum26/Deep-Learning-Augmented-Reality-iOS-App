{
  "nbformat": 4,
  "nbformat_minor": 5,
  "metadata": {
    "colab": {
      "name": "UD Sculpture Identification.ipynb",
      "provenance": [],
      "collapsed_sections": []
    },
    "kernelspec": {
      "display_name": "Python 3",
      "language": "python",
      "name": "python3"
    }
  },
  "cells": [
    {
      "cell_type": "code",
      "metadata": {
        "id": "c331d9b5"
      },
      "source": [
        "import os\n",
        "import tensorflow as tf\n",
        "from keras.models import Sequential, load_model\n",
        "from keras.layers import Dropout, Dense,Flatten\n",
        "local_path=\"/content/drive/MyDrive/UD SculptureDataset\"\n",
        "train = os.path.join(local_path,\"TRAIN\")\n",
        "test = os.path.join(local_path,\"VALIDATION\")"
      ],
      "id": "c331d9b5",
      "execution_count": null,
      "outputs": []
    },
    {
      "cell_type": "code",
      "metadata": {
        "colab": {
          "base_uri": "https://localhost:8080/"
        },
        "id": "DhlZ-bqjqIsr",
        "outputId": "4efa5f1a-23df-46f4-c16b-0637ec2821da"
      },
      "source": [
        "\n",
        "from google.colab import drive\n",
        "drive.mount('/content/drive')"
      ],
      "id": "DhlZ-bqjqIsr",
      "execution_count": null,
      "outputs": [
        {
          "output_type": "stream",
          "name": "stdout",
          "text": [
            "Drive already mounted at /content/drive; to attempt to forcibly remount, call drive.mount(\"/content/drive\", force_remount=True).\n"
          ]
        }
      ]
    },
    {
      "cell_type": "code",
      "metadata": {
        "colab": {
          "base_uri": "https://localhost:8080/"
        },
        "id": "bb46744d",
        "outputId": "b1bc2ca6-2fed-4a19-8dd5-3bc03a1a3d9e"
      },
      "source": [
        "from tensorflow.keras.preprocessing.image import ImageDataGenerator\n",
        "\n",
        "train_datagen = ImageDataGenerator( rescale = 1.0/255. , horizontal_flip=True )\n",
        "test_datagen  = ImageDataGenerator( rescale = 1.0/255., horizontal_flip=True )\n",
        "\n",
        "train_generator      = train_datagen.flow_from_directory(train,batch_size=20,target_size=(224, 224))\n",
        "validation_generator = test_datagen.flow_from_directory(test,batch_size=20 , target_size=(224, 224))"
      ],
      "id": "bb46744d",
      "execution_count": null,
      "outputs": [
        {
          "output_type": "stream",
          "name": "stdout",
          "text": [
            "Found 3619 images belonging to 24 classes.\n",
            "Found 385 images belonging to 24 classes.\n"
          ]
        }
      ]
    },
    {
      "cell_type": "code",
      "metadata": {
        "colab": {
          "base_uri": "https://localhost:8080/"
        },
        "id": "c111bc9a",
        "outputId": "646bf53b-6720-410e-94ca-e3bd8dd32677"
      },
      "source": [
        "from tensorflow.keras.optimizers import RMSprop\n",
        "from tensorflow.keras.optimizers import Adam\n",
        "from tensorflow.keras.optimizers import SGD\n",
        "import tensorflow_hub as hub\n",
        "base_model = hub.KerasLayer(\"https://tfhub.dev/tensorflow/efficientnet/lite4/feature-vector/2\",\n",
        "                               trainable=False)\n",
        "\n",
        "model = tf.keras.Sequential([\n",
        "        base_model,\n",
        "        tf.keras.layers.Dense(24, activation='softmax')\n",
        "])\n",
        "model.build([1, 224, 224, 3])\n",
        "model.summary()\n",
        "\n",
        "model.compile(optimizer='adam',\n",
        "                  loss='categorical_crossentropy',\n",
        "                  metrics=['accuracy'])"
      ],
      "id": "c111bc9a",
      "execution_count": null,
      "outputs": [
        {
          "output_type": "stream",
          "name": "stdout",
          "text": [
            "Model: \"sequential_1\"\n",
            "_________________________________________________________________\n",
            " Layer (type)                Output Shape              Param #   \n",
            "=================================================================\n",
            " keras_layer_1 (KerasLayer)  (1, 1280)                 11837936  \n",
            "                                                                 \n",
            " flatten_1 (Flatten)         (1, 1280)                 0         \n",
            "                                                                 \n",
            " dense_1 (Dense)             (1, 24)                   30744     \n",
            "                                                                 \n",
            "=================================================================\n",
            "Total params: 11,868,680\n",
            "Trainable params: 30,744\n",
            "Non-trainable params: 11,837,936\n",
            "_________________________________________________________________\n"
          ]
        }
      ]
    },
    {
      "cell_type": "code",
      "metadata": {
        "id": "d1a976be"
      },
      "source": [
        "checkpoint_filepath = \"/content/drive/MyDrive/UD SculptureDataset\"\n",
        "model_checkpoint_callback = tf.keras.callbacks.ModelCheckpoint(\n",
        "    filepath=checkpoint_filepath,\n",
        "    save_weights_only=False,\n",
        "    monitor='val_loss',\n",
        "    mode='min',\n",
        "    save_best_only=True)"
      ],
      "id": "d1a976be",
      "execution_count": null,
      "outputs": []
    },
    {
      "cell_type": "code",
      "metadata": {
        "colab": {
          "base_uri": "https://localhost:8080/"
        },
        "id": "759825a9",
        "outputId": "e9d0e2a1-14e2-451c-9778-67ec6d5eb4b5"
      },
      "source": [
        "history = model.fit(train_generator,\n",
        " validation_data=validation_generator,\n",
        " epochs=3,callbacks=model_checkpoint_callback)"
      ],
      "id": "759825a9",
      "execution_count": null,
      "outputs": [
        {
          "output_type": "stream",
          "name": "stdout",
          "text": [
            "Epoch 1/3\n",
            "181/181 [==============================] - ETA: 0s - loss: 0.7338 - accuracy: 0.8356 INFO:tensorflow:Assets written to: /content/drive/MyDrive/UD SculptureDataset/assets\n"
          ]
        },
        {
          "output_type": "stream",
          "name": "stderr",
          "text": [
            "INFO:tensorflow:Assets written to: /content/drive/MyDrive/UD SculptureDataset/assets\n"
          ]
        },
        {
          "output_type": "stream",
          "name": "stdout",
          "text": [
            "\b\b\b\b\b\b\b\b\b\b\b\b\b\b\b\b\b\b\b\b\b\b\b\b\b\b\b\b\b\b\b\b\b\b\b\b\b\b\b\b\b\b\b\b\b\b\b\b\b\b\b\b\b\b\b\b\b\b\b\b\b\b\b\b\b\b\b\b\b\b\b\b\b\b\b\b\b\b\b\b\b\b\b\b\r181/181 [==============================] - 3576s 20s/step - loss: 0.7338 - accuracy: 0.8356 - val_loss: 0.2050 - val_accuracy: 0.9766\n",
            "Epoch 2/3\n",
            "181/181 [==============================] - ETA: 0s - loss: 0.1368 - accuracy: 0.9762INFO:tensorflow:Assets written to: /content/drive/MyDrive/UD SculptureDataset/assets\n"
          ]
        },
        {
          "output_type": "stream",
          "name": "stderr",
          "text": [
            "INFO:tensorflow:Assets written to: /content/drive/MyDrive/UD SculptureDataset/assets\n"
          ]
        },
        {
          "output_type": "stream",
          "name": "stdout",
          "text": [
            "\b\b\b\b\b\b\b\b\b\b\b\b\b\b\b\b\b\b\b\b\b\b\b\b\b\b\b\b\b\b\b\b\b\b\b\b\b\b\b\b\b\b\b\b\b\b\b\b\b\b\b\b\b\b\b\b\b\b\b\b\b\b\b\b\b\b\b\b\b\b\b\b\b\b\b\b\b\b\b\b\b\b\b\b\r181/181 [==============================] - 1734s 10s/step - loss: 0.1368 - accuracy: 0.9762 - val_loss: 0.1214 - val_accuracy: 0.9766\n",
            "Epoch 3/3\n",
            "181/181 [==============================] - ETA: 0s - loss: 0.0739 - accuracy: 0.9895INFO:tensorflow:Assets written to: /content/drive/MyDrive/UD SculptureDataset/assets\n"
          ]
        },
        {
          "output_type": "stream",
          "name": "stderr",
          "text": [
            "INFO:tensorflow:Assets written to: /content/drive/MyDrive/UD SculptureDataset/assets\n"
          ]
        },
        {
          "output_type": "stream",
          "name": "stdout",
          "text": [
            "\b\b\b\b\b\b\b\b\b\b\b\b\b\b\b\b\b\b\b\b\b\b\b\b\b\b\b\b\b\b\b\b\b\b\b\b\b\b\b\b\b\b\b\b\b\b\b\b\b\b\b\b\b\b\b\b\b\b\b\b\b\b\b\b\b\b\b\b\b\b\b\b\b\b\b\b\b\b\b\b\b\b\b\b\r181/181 [==============================] - 1775s 10s/step - loss: 0.0739 - accuracy: 0.9895 - val_loss: 0.0813 - val_accuracy: 0.9870\n"
          ]
        }
      ]
    },
    {
      "cell_type": "code",
      "metadata": {
        "id": "f39a530e"
      },
      "source": [
        "correct_model = tf.keras.models.load_model(checkpoint_filepath)"
      ],
      "id": "f39a530e",
      "execution_count": null,
      "outputs": []
    },
    {
      "cell_type": "code",
      "metadata": {
        "colab": {
          "base_uri": "https://localhost:8080/"
        },
        "id": "66bHLQuiz3bg",
        "outputId": "36da7f97-fd5e-4b05-cc59-7b1e8c91a5c3"
      },
      "source": [
        "converter = tf.lite.TFLiteConverter.from_keras_model(model)\n",
        "tflite_model = converter.convert()\n",
        "\n",
        "# Save the model.\n",
        "with open('model.tflite', 'wb') as f:\n",
        "  f.write(tflite_model)"
      ],
      "id": "66bHLQuiz3bg",
      "execution_count": null,
      "outputs": [
        {
          "output_type": "stream",
          "name": "stdout",
          "text": [
            "INFO:tensorflow:Assets written to: /tmp/tmpss632qp_/assets\n"
          ]
        },
        {
          "output_type": "stream",
          "name": "stderr",
          "text": [
            "INFO:tensorflow:Assets written to: /tmp/tmpss632qp_/assets\n",
            "WARNING:absl:Buffer deduplication procedure will be skipped when flatbuffer library is not properly loaded\n"
          ]
        }
      ]
    },
    {
      "cell_type": "code",
      "metadata": {
        "colab": {
          "base_uri": "https://localhost:8080/"
        },
        "id": "6a77e9a4",
        "outputId": "84dfcc7f-20f9-481b-f35e-b02c122bb672"
      },
      "source": [
        "!pip install onnxruntime"
      ],
      "id": "6a77e9a4",
      "execution_count": null,
      "outputs": [
        {
          "output_type": "stream",
          "name": "stdout",
          "text": [
            "Collecting onnxruntime\n",
            "  Downloading onnxruntime-1.9.0-cp37-cp37m-manylinux_2_17_x86_64.manylinux2014_x86_64.whl (4.8 MB)\n",
            "\u001b[K     |████████████████████████████████| 4.8 MB 31.4 MB/s \n",
            "\u001b[?25hRequirement already satisfied: protobuf in /usr/local/lib/python3.7/dist-packages (from onnxruntime) (3.17.3)\n",
            "Requirement already satisfied: flatbuffers in /usr/local/lib/python3.7/dist-packages (from onnxruntime) (2.0)\n",
            "Requirement already satisfied: numpy>=1.16.6 in /usr/local/lib/python3.7/dist-packages (from onnxruntime) (1.19.5)\n",
            "Requirement already satisfied: six>=1.9 in /usr/local/lib/python3.7/dist-packages (from protobuf->onnxruntime) (1.15.0)\n",
            "Installing collected packages: onnxruntime\n",
            "Successfully installed onnxruntime-1.9.0\n"
          ]
        }
      ]
    },
    {
      "cell_type": "code",
      "metadata": {
        "colab": {
          "base_uri": "https://localhost:8080/",
          "height": 514
        },
        "id": "d8a138ff",
        "outputId": "5807174b-ad04-42aa-e9a7-98de0d0d7549"
      },
      "source": [
        "!pip install -U tf2onnx"
      ],
      "id": "d8a138ff",
      "execution_count": null,
      "outputs": [
        {
          "output_type": "stream",
          "name": "stdout",
          "text": [
            "Collecting tf2onnx\n",
            "  Downloading tf2onnx-1.9.3-py3-none-any.whl (435 kB)\n",
            "\u001b[?25l\r\u001b[K     |▊                               | 10 kB 23.3 MB/s eta 0:00:01\r\u001b[K     |█▌                              | 20 kB 30.1 MB/s eta 0:00:01\r\u001b[K     |██▎                             | 30 kB 32.7 MB/s eta 0:00:01\r\u001b[K     |███                             | 40 kB 34.6 MB/s eta 0:00:01\r\u001b[K     |███▊                            | 51 kB 32.1 MB/s eta 0:00:01\r\u001b[K     |████▌                           | 61 kB 32.3 MB/s eta 0:00:01\r\u001b[K     |█████▎                          | 71 kB 28.6 MB/s eta 0:00:01\r\u001b[K     |██████                          | 81 kB 27.5 MB/s eta 0:00:01\r\u001b[K     |██████▊                         | 92 kB 28.0 MB/s eta 0:00:01\r\u001b[K     |███████▌                        | 102 kB 29.7 MB/s eta 0:00:01\r\u001b[K     |████████▎                       | 112 kB 29.7 MB/s eta 0:00:01\r\u001b[K     |█████████                       | 122 kB 29.7 MB/s eta 0:00:01\r\u001b[K     |█████████▉                      | 133 kB 29.7 MB/s eta 0:00:01\r\u001b[K     |██████████▌                     | 143 kB 29.7 MB/s eta 0:00:01\r\u001b[K     |███████████▎                    | 153 kB 29.7 MB/s eta 0:00:01\r\u001b[K     |████████████                    | 163 kB 29.7 MB/s eta 0:00:01\r\u001b[K     |████████████▉                   | 174 kB 29.7 MB/s eta 0:00:01\r\u001b[K     |█████████████▌                  | 184 kB 29.7 MB/s eta 0:00:01\r\u001b[K     |██████████████▎                 | 194 kB 29.7 MB/s eta 0:00:01\r\u001b[K     |███████████████                 | 204 kB 29.7 MB/s eta 0:00:01\r\u001b[K     |███████████████▉                | 215 kB 29.7 MB/s eta 0:00:01\r\u001b[K     |████████████████▋               | 225 kB 29.7 MB/s eta 0:00:01\r\u001b[K     |█████████████████▎              | 235 kB 29.7 MB/s eta 0:00:01\r\u001b[K     |██████████████████              | 245 kB 29.7 MB/s eta 0:00:01\r\u001b[K     |██████████████████▉             | 256 kB 29.7 MB/s eta 0:00:01\r\u001b[K     |███████████████████▋            | 266 kB 29.7 MB/s eta 0:00:01\r\u001b[K     |████████████████████▎           | 276 kB 29.7 MB/s eta 0:00:01\r\u001b[K     |█████████████████████           | 286 kB 29.7 MB/s eta 0:00:01\r\u001b[K     |█████████████████████▉          | 296 kB 29.7 MB/s eta 0:00:01\r\u001b[K     |██████████████████████▋         | 307 kB 29.7 MB/s eta 0:00:01\r\u001b[K     |███████████████████████▎        | 317 kB 29.7 MB/s eta 0:00:01\r\u001b[K     |████████████████████████        | 327 kB 29.7 MB/s eta 0:00:01\r\u001b[K     |████████████████████████▉       | 337 kB 29.7 MB/s eta 0:00:01\r\u001b[K     |█████████████████████████▋      | 348 kB 29.7 MB/s eta 0:00:01\r\u001b[K     |██████████████████████████▍     | 358 kB 29.7 MB/s eta 0:00:01\r\u001b[K     |███████████████████████████     | 368 kB 29.7 MB/s eta 0:00:01\r\u001b[K     |███████████████████████████▉    | 378 kB 29.7 MB/s eta 0:00:01\r\u001b[K     |████████████████████████████▋   | 389 kB 29.7 MB/s eta 0:00:01\r\u001b[K     |█████████████████████████████▍  | 399 kB 29.7 MB/s eta 0:00:01\r\u001b[K     |██████████████████████████████  | 409 kB 29.7 MB/s eta 0:00:01\r\u001b[K     |██████████████████████████████▉ | 419 kB 29.7 MB/s eta 0:00:01\r\u001b[K     |███████████████████████████████▋| 430 kB 29.7 MB/s eta 0:00:01\r\u001b[K     |████████████████████████████████| 435 kB 29.7 MB/s \n",
            "\u001b[?25hRequirement already satisfied: requests in /usr/local/lib/python3.7/dist-packages (from tf2onnx) (2.23.0)\n",
            "Requirement already satisfied: numpy>=1.14.1 in /usr/local/lib/python3.7/dist-packages (from tf2onnx) (1.19.5)\n",
            "Collecting flatbuffers~=1.12\n",
            "  Downloading flatbuffers-1.12-py2.py3-none-any.whl (15 kB)\n",
            "Collecting onnx>=1.4.1\n",
            "  Downloading onnx-1.10.2-cp37-cp37m-manylinux_2_12_x86_64.manylinux2010_x86_64.whl (12.7 MB)\n",
            "\u001b[K     |████████████████████████████████| 12.7 MB 46.2 MB/s \n",
            "\u001b[?25hRequirement already satisfied: six in /usr/local/lib/python3.7/dist-packages (from tf2onnx) (1.15.0)\n",
            "Requirement already satisfied: protobuf in /usr/local/lib/python3.7/dist-packages (from onnx>=1.4.1->tf2onnx) (3.17.3)\n",
            "Requirement already satisfied: typing-extensions>=3.6.2.1 in /usr/local/lib/python3.7/dist-packages (from onnx>=1.4.1->tf2onnx) (3.10.0.2)\n",
            "Requirement already satisfied: idna<3,>=2.5 in /usr/local/lib/python3.7/dist-packages (from requests->tf2onnx) (2.10)\n",
            "Requirement already satisfied: certifi>=2017.4.17 in /usr/local/lib/python3.7/dist-packages (from requests->tf2onnx) (2021.10.8)\n",
            "Requirement already satisfied: urllib3!=1.25.0,!=1.25.1,<1.26,>=1.21.1 in /usr/local/lib/python3.7/dist-packages (from requests->tf2onnx) (1.24.3)\n",
            "Requirement already satisfied: chardet<4,>=3.0.2 in /usr/local/lib/python3.7/dist-packages (from requests->tf2onnx) (3.0.4)\n",
            "Installing collected packages: onnx, flatbuffers, tf2onnx\n",
            "  Attempting uninstall: flatbuffers\n",
            "    Found existing installation: flatbuffers 2.0\n",
            "    Uninstalling flatbuffers-2.0:\n",
            "      Successfully uninstalled flatbuffers-2.0\n",
            "Successfully installed flatbuffers-1.12 onnx-1.10.2 tf2onnx-1.9.3\n"
          ]
        },
        {
          "output_type": "display_data",
          "data": {
            "application/vnd.colab-display-data+json": {
              "pip_warning": {
                "packages": [
                  "flatbuffers"
                ]
              }
            }
          },
          "metadata": {}
        }
      ]
    },
    {
      "cell_type": "code",
      "metadata": {
        "colab": {
          "base_uri": "https://localhost:8080/"
        },
        "id": "322aa6c5",
        "outputId": "0f4f197a-18c7-4641-d1a0-ed5f58738c11"
      },
      "source": [
        "!pip install git+https://github.com/onnx/tensorflow-onnx"
      ],
      "id": "322aa6c5",
      "execution_count": null,
      "outputs": [
        {
          "output_type": "stream",
          "name": "stdout",
          "text": [
            "Collecting git+https://github.com/onnx/tensorflow-onnx\n",
            "  Cloning https://github.com/onnx/tensorflow-onnx to /tmp/pip-req-build-ee9_ph2a\n",
            "  Running command git clone -q https://github.com/onnx/tensorflow-onnx /tmp/pip-req-build-ee9_ph2a\n",
            "Requirement already satisfied: numpy>=1.14.1 in /usr/local/lib/python3.7/dist-packages (from tf2onnx==1.10.0) (1.19.5)\n",
            "Requirement already satisfied: onnx>=1.4.1 in /usr/local/lib/python3.7/dist-packages (from tf2onnx==1.10.0) (1.10.2)\n",
            "Requirement already satisfied: requests in /usr/local/lib/python3.7/dist-packages (from tf2onnx==1.10.0) (2.23.0)\n",
            "Requirement already satisfied: six in /usr/local/lib/python3.7/dist-packages (from tf2onnx==1.10.0) (1.15.0)\n",
            "Requirement already satisfied: flatbuffers~=1.12 in /usr/local/lib/python3.7/dist-packages (from tf2onnx==1.10.0) (1.12)\n",
            "Requirement already satisfied: protobuf in /usr/local/lib/python3.7/dist-packages (from onnx>=1.4.1->tf2onnx==1.10.0) (3.17.3)\n",
            "Requirement already satisfied: typing-extensions>=3.6.2.1 in /usr/local/lib/python3.7/dist-packages (from onnx>=1.4.1->tf2onnx==1.10.0) (3.10.0.2)\n",
            "Requirement already satisfied: urllib3!=1.25.0,!=1.25.1,<1.26,>=1.21.1 in /usr/local/lib/python3.7/dist-packages (from requests->tf2onnx==1.10.0) (1.24.3)\n",
            "Requirement already satisfied: idna<3,>=2.5 in /usr/local/lib/python3.7/dist-packages (from requests->tf2onnx==1.10.0) (2.10)\n",
            "Requirement already satisfied: certifi>=2017.4.17 in /usr/local/lib/python3.7/dist-packages (from requests->tf2onnx==1.10.0) (2021.10.8)\n",
            "Requirement already satisfied: chardet<4,>=3.0.2 in /usr/local/lib/python3.7/dist-packages (from requests->tf2onnx==1.10.0) (3.0.4)\n",
            "Building wheels for collected packages: tf2onnx\n",
            "  Building wheel for tf2onnx (setup.py) ... \u001b[?25l\u001b[?25hdone\n",
            "  Created wheel for tf2onnx: filename=tf2onnx-1.10.0-py3-none-any.whl size=435728 sha256=19ea7cfb32a3fe54b56458e5a096e2a6f4623a6c1a20b67a129684726791c6c3\n",
            "  Stored in directory: /tmp/pip-ephem-wheel-cache-c9d524oe/wheels/73/99/8e/3034c9b47124da4ac24a6ea72b8da1be5af878e37c2e953bb3\n",
            "Successfully built tf2onnx\n",
            "Installing collected packages: tf2onnx\n",
            "  Attempting uninstall: tf2onnx\n",
            "    Found existing installation: tf2onnx 1.9.3\n",
            "    Uninstalling tf2onnx-1.9.3:\n",
            "      Successfully uninstalled tf2onnx-1.9.3\n",
            "Successfully installed tf2onnx-1.10.0\n"
          ]
        }
      ]
    },
    {
      "cell_type": "code",
      "metadata": {
        "colab": {
          "base_uri": "https://localhost:8080/"
        },
        "id": "ipqtcDYgJeZv",
        "outputId": "2b91e08a-4dbc-4487-9559-6271e7e25a4d"
      },
      "source": [
        "!git clone https://github.com/onnx/tensorflow-onnx"
      ],
      "id": "ipqtcDYgJeZv",
      "execution_count": null,
      "outputs": [
        {
          "output_type": "stream",
          "name": "stdout",
          "text": [
            "fatal: destination path 'tensorflow-onnx' already exists and is not an empty directory.\n"
          ]
        }
      ]
    },
    {
      "cell_type": "code",
      "metadata": {
        "colab": {
          "base_uri": "https://localhost:8080/"
        },
        "id": "Z7zERDG4JhFp",
        "outputId": "92e76873-8c88-4adc-b856-b49c44d5a362"
      },
      "source": [
        "!python /content/drive/MyDrive/UD SculptureDatasettensorflow-onnx/setup.py install"
      ],
      "id": "Z7zERDG4JhFp",
      "execution_count": null,
      "outputs": [
        {
          "output_type": "stream",
          "name": "stdout",
          "text": [
            "/usr/bin/python3: can't find '__main__' module in '/content/tensorflow-onnx/setup.py'\n"
          ]
        }
      ]
    },
    {
      "cell_type": "code",
      "metadata": {
        "colab": {
          "base_uri": "https://localhost:8080/"
        },
        "id": "H6YTwRZ0ZtcN",
        "outputId": "2a991756-ea06-4ae8-a4e7-bfb120cb22d2"
      },
      "source": [
        "from google.colab import drive\n",
        "drive.mount('/content/drive')"
      ],
      "id": "H6YTwRZ0ZtcN",
      "execution_count": null,
      "outputs": [
        {
          "output_type": "stream",
          "name": "stdout",
          "text": [
            "Mounted at /content/drive\n"
          ]
        }
      ]
    },
    {
      "cell_type": "code",
      "metadata": {
        "colab": {
          "base_uri": "https://localhost:8080/"
        },
        "id": "GT6aguuVTl1y",
        "outputId": "b4dc5500-1dcf-4349-9c01-f3103f26f01a"
      },
      "source": [
        "!python /content/tensorflow-onnx/setup.py bdist_wheel"
      ],
      "id": "GT6aguuVTl1y",
      "execution_count": null,
      "outputs": [
        {
          "output_type": "stream",
          "name": "stdout",
          "text": [
            "/usr/bin/python3: can't find '__main__' module in '/content/tensorflow-onnx/setup.py'\n"
          ]
        }
      ]
    },
    {
      "cell_type": "code",
      "metadata": {
        "colab": {
          "base_uri": "https://localhost:8080/"
        },
        "id": "4ytCByW9Tl7J",
        "outputId": "29557466-4d21-47f8-b67c-1faf31c45146"
      },
      "source": [
        "!python -m tf2onnx.convert --opset 11 --tflite /content/model.tflite --output model2.onnx"
      ],
      "id": "4ytCByW9Tl7J",
      "execution_count": null,
      "outputs": [
        {
          "output_type": "stream",
          "name": "stdout",
          "text": [
            "/usr/lib/python3.7/runpy.py:125: RuntimeWarning: 'tf2onnx.convert' found in sys.modules after import of package 'tf2onnx', but prior to execution of 'tf2onnx.convert'; this may result in unpredictable behaviour\n",
            "  warn(RuntimeWarning(msg))\n",
            "2021-11-24 21:45:14,692 - INFO - Using tensorflow=2.7.0, onnx=1.10.2, tf2onnx=1.10.0/d018aa\n",
            "2021-11-24 21:45:14,692 - INFO - Using opset <onnx, 11>\n",
            "2021-11-24 21:45:15,399 - INFO - Optimizing ONNX model\n",
            "2021-11-24 21:45:17,533 - INFO - After optimization: Const -152 (340->188), GlobalAveragePool +1 (0->1), Identity -2 (2->0), ReduceMean -1 (1->0), Reshape -30 (30->0), Squeeze +1 (0->1), Transpose -364 (365->1)\n",
            "2021-11-24 21:45:17,729 - INFO - \n",
            "2021-11-24 21:45:17,729 - INFO - Successfully converted TensorFlow model /content/model.tflite to ONNX\n",
            "2021-11-24 21:45:17,729 - INFO - Model inputs: ['serving_default_keras_layer_1_input:0']\n",
            "2021-11-24 21:45:17,729 - INFO - Model outputs: ['StatefulPartitionedCall:0']\n",
            "2021-11-24 21:45:17,729 - INFO - ONNX model is saved at model2.onnx\n"
          ]
        }
      ]
    }
  ]
}